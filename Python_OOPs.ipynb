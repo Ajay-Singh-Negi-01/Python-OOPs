{
  "nbformat": 4,
  "nbformat_minor": 0,
  "metadata": {
    "colab": {
      "provenance": []
    },
    "kernelspec": {
      "name": "python3",
      "display_name": "Python 3"
    },
    "language_info": {
      "name": "python"
    }
  },
  "cells": [
    {
      "cell_type": "markdown",
      "source": [
        "# Python OOPs Questions\n",
        "\n",
        "1. What is Object-Oriented Programming (OOP)?       \n",
        "  - Object-Oriented Programming (OOP) is a prigramming paradigm based on the concept of \"objects\", which contain data(attributes) and methods (functions) that operate on the data.     \n",
        "  OOP focuses on organizing code into reusable and modular components, making it easier to manage and scale.      \n",
        "  ***Key Concepts of OOP:**      \n",
        "  a. **Class -** A blueprint for creating objects.    \n",
        "  b. **Object -** An instance of a class.     \n",
        "  c. **Encapsulation -** Hiding internal details and showing only necessary parts.    \n",
        "  d. **Inheritance -** A class can inherit properties and behavior from another class.     \n",
        "  e. **Polymorphism -** Same method can behave differently based on context.    \n",
        "  f. **Abstraction -** Hiding complex logic and showing only essential features.    \n",
        "\n"
      ],
      "metadata": {
        "id": "wO2wsXRjX1Qt"
      }
    },
    {
      "cell_type": "code",
      "execution_count": null,
      "metadata": {
        "id": "SePQcAExXsUV",
        "colab": {
          "base_uri": "https://localhost:8080/"
        },
        "outputId": "ffc1e6d3-f827-4fbb-b0b6-15f7a42dfeec"
      },
      "outputs": [
        {
          "output_type": "stream",
          "name": "stdout",
          "text": [
            "Hello, my name is Ajay and I am 25 years old.\n"
          ]
        }
      ],
      "source": [
        "#Example in Python:\n",
        "\n",
        "class Person:\n",
        "  def __init__(self, name, age):\n",
        "    self.name = name\n",
        "    self.age = age\n",
        "\n",
        "  def greet(self):\n",
        "    print(f\"Hello, my name is {self.name} and I am {self.age} years old.\")\n",
        "\n",
        "# Creating object\n",
        "\n",
        "person1 = Person(\"Ajay\", 25)\n",
        "person1.greet()"
      ]
    },
    {
      "cell_type": "markdown",
      "source": [
        "2. What is a class in OOP ?     \n",
        "  - A class in Object - Oriented Programming (OOP) is a blueprint or template used to create objects.   \n",
        "  It defines properties (attributes) and behaviours (methods) that the objects created from the class will have.    \n",
        "  Here:    \n",
        "  Car is the class.     \n",
        "  brand and model are attributes.    \n",
        "  start_engine() is a method.   \n",
        "  "
      ],
      "metadata": {
        "id": "RS_u5DjMeSkq"
      }
    },
    {
      "cell_type": "code",
      "source": [
        "class Car:\n",
        "  def __init__(self, brand, model):\n",
        "    self.brand = brand\n",
        "    self.model = model\n",
        "\n",
        "  def start_engine(self):\n",
        "    print(f\"{self.brand} {self.model} engine started.\")\n",
        "\n",
        "my_car = Car(\"Toyota\", \"Fortuner\")\n",
        "my_car.start_engine()\n",
        "my_car.brand\n",
        "my_car.model"
      ],
      "metadata": {
        "colab": {
          "base_uri": "https://localhost:8080/",
          "height": 52
        },
        "id": "kDcAWW2VeRlR",
        "outputId": "bc12055b-5d1a-4af8-d74b-265a2e94971a"
      },
      "execution_count": null,
      "outputs": [
        {
          "output_type": "stream",
          "name": "stdout",
          "text": [
            "Toyota Fortuner engine started.\n"
          ]
        },
        {
          "output_type": "execute_result",
          "data": {
            "text/plain": [
              "'Fortuner'"
            ],
            "application/vnd.google.colaboratory.intrinsic+json": {
              "type": "string"
            }
          },
          "metadata": {},
          "execution_count": 6
        }
      ]
    },
    {
      "cell_type": "markdown",
      "source": [
        "3. What is an object in OOP ?\n",
        "  - In Object - Oriented Programming (OOP), an object is basic unit that represents a real-world entity.   \n",
        "  Each object has:    \n",
        "  . State: Represented by attributes or variables (color, name, speed).   \n",
        "  . Behavior: Represented by methods or functions (start(), stop()).    \n",
        "  . Identity: Each object is uinque even if it has the same state and behavior.     \n",
        "  Object are created from classes, which act like blueprints.   "
      ],
      "metadata": {
        "id": "ighDlGdHk2vz"
      }
    },
    {
      "cell_type": "code",
      "source": [
        "class Mobile:\n",
        "  def __init__ (self, brand, price):\n",
        "    self.brand = brand\n",
        "    self.price = price\n",
        "\n",
        "  def show_details(self):\n",
        "    print(f\"Brand: {self.brand}, Price:{self.price}\")\n",
        "\n",
        "\n",
        "phone1 = Mobile(\"Sumsung\",15000)\n",
        "phone2 = Mobile(\"Apple\", 80000)\n",
        "\n",
        "phone1.show_details()\n",
        "phone2.show_details()\n",
        "\n",
        "#phone1 and phone2 are objects created from the class Mobile."
      ],
      "metadata": {
        "colab": {
          "base_uri": "https://localhost:8080/"
        },
        "id": "8NzEs3fIm6r_",
        "outputId": "a1691a45-9b18-42d9-edd8-3840fb775463"
      },
      "execution_count": null,
      "outputs": [
        {
          "output_type": "stream",
          "name": "stdout",
          "text": [
            "Brand: Sumsung, Price:15000\n",
            "Brand: Apple, Price:80000\n"
          ]
        }
      ]
    },
    {
      "cell_type": "markdown",
      "source": [
        "4. What is the difference between abstraction and encapsulation ?      \n",
        "  - ***Abstraction*** :    \n",
        "  Abstraction is the process of hiding the internal implementation details and showing only the essential features of an object.    \n",
        "  Purpose: To reduce complexity and focus only on what is important for the user.   \n",
        "  ***Encapsulation** :     \n",
        "  Encapsulation is the process of wrapping data(variables) and methods (functions) together into a single unit (class), and restricting direct access to the internal data.   \n",
        "  Purpose: To protect the data and ensure controlled access/modification using methods.  \n",
        "  "
      ],
      "metadata": {
        "id": "0W0S1Y5FoEFR"
      }
    },
    {
      "cell_type": "code",
      "source": [
        "#Abstraction\n",
        "\n",
        "from abc import ABC, abstractmethod\n",
        "\n",
        "#Abstact Class\n",
        "class Vehicle(ABC):\n",
        "  @abstractmethod\n",
        "  def start_engine(self):\n",
        "    pass\n",
        "\n",
        "#Concrete class\n",
        "class Car(Vehicle):\n",
        "  def start_engine(self):\n",
        "    print(\"Car engine started\")\n",
        "\n",
        "#Using abstraction\n",
        "c = Car()\n",
        "c.start_engine()\n"
      ],
      "metadata": {
        "colab": {
          "base_uri": "https://localhost:8080/"
        },
        "id": "0vVL4f6q8Icj",
        "outputId": "0ad3dc9f-4090-4c4c-f4a7-eaf24d329320"
      },
      "execution_count": null,
      "outputs": [
        {
          "output_type": "stream",
          "name": "stdout",
          "text": [
            "Car engine started\n",
            "Car engine started\n"
          ]
        }
      ]
    },
    {
      "cell_type": "code",
      "source": [
        "#Encapsulation\n",
        "\n",
        "class BankAccount:\n",
        "  def __init__(self, balance):\n",
        "    self.__balance = balance    #Private Variable\n",
        "\n",
        "  def deposit(self, amount):\n",
        "    if amount > 0:\n",
        "      self.__balance += amount\n",
        "\n",
        "  def get_balance(self):\n",
        "    return self.__balance\n",
        "\n",
        "acc = BankAccount(1000)\n",
        "acc.deposit(500)\n",
        "print(acc.get_balance())\n"
      ],
      "metadata": {
        "colab": {
          "base_uri": "https://localhost:8080/"
        },
        "id": "DIbRctg688ac",
        "outputId": "1b3a69f9-6fb7-456b-f511-177106d30682"
      },
      "execution_count": null,
      "outputs": [
        {
          "output_type": "stream",
          "name": "stdout",
          "text": [
            "1500\n"
          ]
        }
      ]
    },
    {
      "cell_type": "markdown",
      "source": [
        "5. What are dunder methods in Python ?    \n",
        "  - Dunder methods (short for \"double underscore\" methods), are predefined methods in Python that begin and end with double underscores like __init__, __str__, __len__ etc.    \n",
        "  They allow you to customize the behavior of your classes, especially when using built-in functions or operators.     \n",
        "  Dunder Methods :-     \n",
        "  To Override or extend built-in behavior.   \n",
        "  To make your objects behave like built-in types.    \n",
        "  To customize class functionality (comparisons, printing, iteration).     \n",
        "\n"
      ],
      "metadata": {
        "id": "x5dEe7-8cOZl"
      }
    },
    {
      "cell_type": "code",
      "source": [
        "class Student:\n",
        "  def __init__(self, name, marks):\n",
        "    self.name = name\n",
        "    self.marks = marks\n",
        "\n",
        "  def __str__(self):\n",
        "    return f\"Student: {self.name}, Marks:{self.marks}\"\n",
        "\n",
        "  def __len__(self):\n",
        "    return len(self.name)\n",
        "\n",
        "#Creating object\n",
        "\n",
        "s = Student(\"Ajay\",90)\n",
        "print(s)                 #Calls __str__()\n",
        "print(len(s))            #Calls __len__()\n"
      ],
      "metadata": {
        "colab": {
          "base_uri": "https://localhost:8080/"
        },
        "id": "AOH2NeXkfnHu",
        "outputId": "dd9c6897-2c85-42c4-fb57-733983062cb7"
      },
      "execution_count": null,
      "outputs": [
        {
          "output_type": "stream",
          "name": "stdout",
          "text": [
            "Student: Ajay, Marks:90\n",
            "4\n"
          ]
        }
      ]
    },
    {
      "cell_type": "markdown",
      "source": [
        "6. Explain the concept of inheritance in OOP .        \n",
        "  - Inheritance is a core concept in OOP that allows a class (called the child or subclass) to inherit properties and behaviors (methods) from another class (called the parent or superclass).      \n",
        "  It promotes code reuse, modularity, and maintainability.     \n",
        "  Key Points:       \n",
        "  . The child class inherits all ottributes and methods of the parent class.     \n",
        "  . You can add new features or override existing ones in the child class.     \n",
        "  . Helps in building a hierarchical class structure.     \n",
        "  Benefits of Inheritance:     \n",
        "  Reusability : Write once, use in multiple places.    \n",
        "  Scalability : Easily extend fuctionality.   \n",
        "  Clean Code : Avoid duplication.    \n",
        "  "
      ],
      "metadata": {
        "id": "Qbz-4HMYglXn"
      }
    },
    {
      "cell_type": "code",
      "source": [
        "# Parent class\n",
        "class Animal:\n",
        "  def speak(self):\n",
        "    return \"This animal makes a sound\"\n",
        "\n",
        "#Child class\n",
        "\n",
        "class Dog(Animal):\n",
        "  def speak(self):\n",
        "    return \"Bark!\"\n",
        "\n",
        "# Creating objects\n",
        "\n",
        "a = Animal()\n",
        "d = Dog()\n",
        "\n",
        "print(a.speak())\n",
        "print(d.speak())\n",
        "\n"
      ],
      "metadata": {
        "colab": {
          "base_uri": "https://localhost:8080/"
        },
        "id": "c0yR_xIcf_Zm",
        "outputId": "8b004e86-c8e5-4fc3-ca50-7bdcfd350169"
      },
      "execution_count": null,
      "outputs": [
        {
          "output_type": "stream",
          "name": "stdout",
          "text": [
            "This animal makes a sound\n",
            "Bark!\n"
          ]
        }
      ]
    },
    {
      "cell_type": "markdown",
      "source": [
        "7.  What is polymorphism in OOP ?       \n",
        "  - Polymorphism means \"many forms\". it allows objects of different classes to be treated as objects of a common superclass, especially when they share the same method name but behave differently.     \n",
        "  Key Points :          \n",
        "  . Same method name can have different implementations.     \n",
        "  . Achieved through:    \n",
        "  Method Overriding(runtime polymorphism)    \n",
        "  Method Overloading (not natively supported in Python but can be mimicked)    \n"
      ],
      "metadata": {
        "id": "SZu3uVbbje5P"
      }
    },
    {
      "cell_type": "code",
      "source": [
        "class Animal:\n",
        "  def speak(self):\n",
        "    return \"Animal speaks\"\n",
        "\n",
        "class Dog(Animal):\n",
        "  def speak(self):\n",
        "    return \"Dog barks\"\n",
        "\n",
        "class Cat (Animal):\n",
        "  def speak(self):\n",
        "    return \"Cat meows\"\n",
        "\n",
        "# Using polymorphism\n",
        "\n",
        "def animal_sound(animal):\n",
        "  print(animal.speak())\n",
        "\n",
        "animal_sound(Dog())\n",
        "animal_sound(Cat())\n"
      ],
      "metadata": {
        "colab": {
          "base_uri": "https://localhost:8080/"
        },
        "id": "k9NlDqG9k-Lu",
        "outputId": "43e729b3-6d9c-4a1c-e741-54e99d4686be"
      },
      "execution_count": null,
      "outputs": [
        {
          "output_type": "stream",
          "name": "stdout",
          "text": [
            "Dog barks\n",
            "Cat meows\n"
          ]
        }
      ]
    },
    {
      "cell_type": "markdown",
      "source": [
        "8. How is encapsulation achieved in Python ?    \n",
        "  - Encapsulation in Python is the concept of hiding internal object details and restricting direct access to some of the object's components.     \n",
        "  It helps in protecting data and maintaining code integrity.    \n",
        "  . Using Underscores(_and_) to indicate access level:      \n",
        "  _var : Protected (convention - for internal use only)       \n",
        "  _var: Private (name mangling - makes it harder to access directly)    \n",
        "  . Getter and Setter methods to access and modify private data safely.   "
      ],
      "metadata": {
        "id": "VqNLkKGWluD0"
      }
    },
    {
      "cell_type": "code",
      "source": [
        "class Employee:\n",
        "  def __init__(self, name, salary):\n",
        "    self.name = name               #Public\n",
        "    self._department = \"HR\"        #Protected\n",
        "    self.__salary = salary         #Private\n",
        "\n",
        "  def get_salary(self):\n",
        "    return self.__salary\n",
        "\n",
        "  def set_salary(self, amount):\n",
        "    if amount > 0:\n",
        "      self.__salary = amount\n",
        "\n",
        "emp = Employee(\"Ajay\", 50000)\n",
        "\n",
        "print(emp.name)\n",
        "print(emp._department)\n",
        "\n",
        "\n",
        "print(emp.get_salary())\n",
        "emp.set_salary(60000)\n",
        "print(emp.get_salary())\n"
      ],
      "metadata": {
        "colab": {
          "base_uri": "https://localhost:8080/"
        },
        "id": "tdrlQsn9nqC4",
        "outputId": "7145f806-21f5-4a48-c715-70cdd991d5cc"
      },
      "execution_count": null,
      "outputs": [
        {
          "output_type": "stream",
          "name": "stdout",
          "text": [
            "Ajay\n",
            "HR\n",
            "50000\n",
            "60000\n"
          ]
        }
      ]
    },
    {
      "cell_type": "markdown",
      "source": [
        "9.  What is a constructor in Python ?     \n",
        "  - A constructor is a special method used to initialize objects of a class.\n",
        "  In Python, the constructor is defined using the __init__() method.\n",
        "  It is automatically called when a new object is created.     \n",
        "  Key Points:     \n",
        "  Used to assign values to object properties at the thme of object creation.    \n",
        "  Always named __init__ .     \n",
        "  self refers to the current instance of the class.      \n",
        "  "
      ],
      "metadata": {
        "id": "vgmy51Y9njno"
      }
    },
    {
      "cell_type": "code",
      "source": [
        "class Student:\n",
        "  def __init__(self, name, age):\n",
        "    self.name = name\n",
        "    self.age = age\n",
        "\n",
        "# Creating an object (calls the constructor)\n",
        "s1 = Student(\"Ajay\",25)\n",
        "print(s1.name)\n",
        "print(s1.age)\n"
      ],
      "metadata": {
        "colab": {
          "base_uri": "https://localhost:8080/"
        },
        "id": "081lmVYC22Zc",
        "outputId": "8029d28c-1dd3-455f-c843-f0fbbe2d4374"
      },
      "execution_count": null,
      "outputs": [
        {
          "output_type": "stream",
          "name": "stdout",
          "text": [
            "Ajay\n",
            "25\n"
          ]
        }
      ]
    },
    {
      "cell_type": "markdown",
      "source": [
        "10.  What are class and static methods in Python ?       \n",
        "  - **Class Method :**    \n",
        "  A class method is a method that receives the class itself as the first argument instead of the instance.     \n",
        "  It is defined using the @classmethod decorator.    \n",
        "  . Used to create or modify class-level data.    \n",
        "  Often used as factory methods (to create instances in a custom way).    \n",
        "  ***Static Method :**     \n",
        "  A static method does not take self or cls as the first argument.     \n",
        "  It behaves like a regular function, but it belongs to the class's namespace.    \n",
        "  .Utility functions that have a logical connection to the class, but don't need access to instance or class variables.    "
      ],
      "metadata": {
        "id": "DE1G87EG9J1L"
      }
    },
    {
      "cell_type": "code",
      "source": [
        "# Class Method:\n",
        "\n",
        "@classmethod\n",
        "def method_name(cls):\n",
        "  ...\n",
        "\n",
        "\n",
        "class Employee:\n",
        "  company = \"TechCorp\"\n",
        "\n",
        "  @classmethod\n",
        "  def change_company(cls, new_name):\n",
        "    cls.company = new_name\n",
        "\n",
        "Employee.change_company(\"NewTech\")\n",
        "print(Employee.company)"
      ],
      "metadata": {
        "colab": {
          "base_uri": "https://localhost:8080/"
        },
        "id": "btWmoTIfp2EK",
        "outputId": "3dcc5d27-f003-4f4e-c42f-b43c6067140c"
      },
      "execution_count": null,
      "outputs": [
        {
          "output_type": "stream",
          "name": "stdout",
          "text": [
            "NewTech\n"
          ]
        }
      ]
    },
    {
      "cell_type": "code",
      "source": [
        "# Static Method:\n",
        "\n",
        "@staticmethod\n",
        "\n",
        "def method_name():\n",
        "  ...\n",
        "\n",
        "class MathTools:\n",
        "  @staticmethod\n",
        "  def add(x, y):\n",
        "    return x + y\n",
        "\n",
        "print(MathTools.add(5,3))"
      ],
      "metadata": {
        "colab": {
          "base_uri": "https://localhost:8080/"
        },
        "id": "TL8ev2MkAp53",
        "outputId": "b162435a-0b24-44d4-922d-3db6fa927bfa"
      },
      "execution_count": null,
      "outputs": [
        {
          "output_type": "stream",
          "name": "stdout",
          "text": [
            "8\n"
          ]
        }
      ]
    },
    {
      "cell_type": "markdown",
      "source": [
        "11.  What is method overloading in Python ?       \n",
        "  - Method overloading is the ability to define multiple methods with the same name but different numbers or types of parameters.   \n",
        "  Python does not support true method overloading like some other langurages. In Python, if you define a method multiple times in the same class, the last one overrides the previous ones.      \n",
        "  However, you can achieve similar behavior using :      \n",
        "  . Default arguments    \n",
        "  . Variable-length arguments( *agrs, **kwargs)"
      ],
      "metadata": {
        "id": "eJQh2Ot_NbyA"
      }
    },
    {
      "cell_type": "code",
      "source": [
        "class Greet:\n",
        "  def hello(self, name = None):\n",
        "    if name:\n",
        "      print(f\"Hello, {name}!\")\n",
        "    else:\n",
        "      print(\"Hello!\")\n",
        "\n",
        "obj = Greet()\n",
        "obj.hello()\n",
        "obj.hello(\"Ajay\")"
      ],
      "metadata": {
        "colab": {
          "base_uri": "https://localhost:8080/"
        },
        "id": "tBgzoxP6Oh7h",
        "outputId": "64b363ec-298c-4941-a195-211f65a8182e"
      },
      "execution_count": null,
      "outputs": [
        {
          "output_type": "stream",
          "name": "stdout",
          "text": [
            "Hello!\n",
            "Hello, Ajay!\n"
          ]
        }
      ]
    },
    {
      "cell_type": "markdown",
      "source": [
        "12.  What is method overriding in OOP ?     \n",
        "  - Method Overriding occurs when a child provides its own version of a method that is already defined in its parent class.      \n",
        "  The child class overrides the parent's method to provide specific  behavior.    \n",
        "  It is a key feature of polymorphism in object - oriented programming.     \n",
        "  "
      ],
      "metadata": {
        "id": "gzd5XgddPPpG"
      }
    },
    {
      "cell_type": "code",
      "source": [
        "class Animal:\n",
        "  def sound(self):\n",
        "    print(\"This animal makes a sound\")\n",
        "\n",
        "class Dog(Animal):\n",
        "  def sound(self):\n",
        "    print(\"The dog barks\")\n",
        "\n",
        "a = Animal()\n",
        "d = Dog()\n",
        "\n",
        "a.sound()\n",
        "d.sound()"
      ],
      "metadata": {
        "colab": {
          "base_uri": "https://localhost:8080/"
        },
        "id": "-E-UB-P3QDsB",
        "outputId": "d95c2d9b-72b6-4b39-81dc-391f7c1fa7b9"
      },
      "execution_count": null,
      "outputs": [
        {
          "output_type": "stream",
          "name": "stdout",
          "text": [
            "This animal makes a sound\n",
            "The dog barks\n"
          ]
        }
      ]
    },
    {
      "cell_type": "markdown",
      "source": [
        "13. What is a property decorator in Python ?        \n",
        "  - The @property decorator in Python is used to define a method as a property, so you can access it like an attribute (Without paranthese).    \n",
        "  It is often used to control access to instance variables (getters/setters) while keeping the syntax clean.    \n",
        "  . It makes method calls look like attribute access     \n",
        "  . Useful for encapsulation and read - only attributes      \n",
        "  Without @property, you'd have to call p.name() instead of p.name ."
      ],
      "metadata": {
        "id": "ITiwa0bUQexI"
      }
    },
    {
      "cell_type": "code",
      "source": [
        "class Person:\n",
        "  def __init__ (self, name):\n",
        "    self._name = name\n",
        "  @property\n",
        "  def name(self):\n",
        "    return self._name\n",
        "\n",
        "# Create object\n",
        "\n",
        "p = Person(\"Ajay\")\n",
        "\n",
        "# Access like an attribute\n",
        "print(p.name)\n"
      ],
      "metadata": {
        "colab": {
          "base_uri": "https://localhost:8080/"
        },
        "id": "9TGYp2UtRj-u",
        "outputId": "97a62350-3381-4aa4-f27c-8a2594d9f373"
      },
      "execution_count": null,
      "outputs": [
        {
          "output_type": "stream",
          "name": "stdout",
          "text": [
            "Ajay\n"
          ]
        }
      ]
    },
    {
      "cell_type": "markdown",
      "source": [
        "14. Why is polymorphism important in OOP ?        \n",
        "  - Polymorphism allows objects of diferent classes to be treated as objects of a common superclass.    \n",
        "  It enables the same method name to perform different behaviors depending on the object calling it.      \n",
        "  . Flexibility : You can write code that works on the interface, not the exact class.     \n",
        "  . Code Reusability : Write general code the works with different types of objects.    \n",
        "  . Scalability: Easy to add new classes without changing existing code.    \n",
        "  . Cleaner Code : Avoids complex if-else or type - checking conditions.     \n",
        "  Even though Dog and Cat are different, they share a common interface ( speak()), which is polymorphism in action.      \n"
      ],
      "metadata": {
        "id": "HdhQVqf0Rgt1"
      }
    },
    {
      "cell_type": "code",
      "source": [
        "class Animal:\n",
        "  def speak(self):\n",
        "    pass\n",
        "\n",
        "class Dog(Animal):\n",
        "  def speak(self):\n",
        "    return \"Woof\"\n",
        "\n",
        "class Cat(Animal):\n",
        "  def speak(self):\n",
        "    return \"Meow\"\n",
        "\n",
        "# Polymorphic behavior\n",
        "def make_sound(animal):\n",
        "  print(animal.speak())\n",
        "\n",
        "make_sound(Dog())\n",
        "make_sound(Cat())"
      ],
      "metadata": {
        "colab": {
          "base_uri": "https://localhost:8080/"
        },
        "id": "BIRuLeUGTozz",
        "outputId": "26646747-4647-4cca-e096-193576d5ae5c"
      },
      "execution_count": null,
      "outputs": [
        {
          "output_type": "stream",
          "name": "stdout",
          "text": [
            "Woof\n",
            "Meow\n"
          ]
        }
      ]
    },
    {
      "cell_type": "markdown",
      "source": [
        "15. What is an abstract class in Python ?     \n",
        "  - An abstract class in Python is a class that cannot be instantiated directly.    \n",
        "  It serves as a blueprint for other classes and may contain abstract methods (methods without implementation).     \n",
        "  Abstract classes are defined using the abc module and the @abstractmethod decorator.     \n",
        "  Key Point:     \n",
        "  . Used to define common interface/structure for subclasses.   \n",
        "  . Helps enforce implementation rules in child classes.    \n",
        "  . Can't create objects of an abstract class.    \n",
        "  "
      ],
      "metadata": {
        "id": "lTa-xVJeULt5"
      }
    },
    {
      "cell_type": "code",
      "source": [
        "from abc import ABC, abstractmethod\n",
        "\n",
        "class Animal(ABC):\n",
        "  @abstractmethod\n",
        "  def make_sound(self):\n",
        "    pass\n",
        "\n",
        "class Dog(Animal):\n",
        "  def make_sound(self):\n",
        "    return \"Bark\"\n",
        "\n",
        "class Cat (Animal):\n",
        "  def make_sound(self):\n",
        "    return \"Meow\"\n",
        "\n",
        "dog = Dog()\n",
        "print(dog.make_sound())"
      ],
      "metadata": {
        "colab": {
          "base_uri": "https://localhost:8080/"
        },
        "id": "Us0pwp4lVPyS",
        "outputId": "571916b8-8c25-4734-a724-68f0458982c2"
      },
      "execution_count": null,
      "outputs": [
        {
          "output_type": "stream",
          "name": "stdout",
          "text": [
            "Bark\n"
          ]
        }
      ]
    },
    {
      "cell_type": "markdown",
      "source": [
        "16. What are the advantages of OOP ?      \n",
        "  - Object - Oriented Programming (OOP) provides a structured way to design and build programs using abjects and classes, offering several advantages:  \n",
        "  . Modularity    \n",
        "  Code is divided into classes and objects.   \n",
        "  Eack class handles a specific part of the functionality.     \n",
        "  Helps in organizing and managing complex systems.   \n",
        "  . Reusability    \n",
        "  Classes can be reused in multiple programs.     \n",
        "  Inheritance allows creating new classes from existing ones.     \n",
        "  Write once, use many times.     \n",
        "  . Scalability and Maintainability     \n",
        "  Easier to update or modify code.    \n",
        "  Each object is self - contained, so changes are localized.    \n",
        "  Reduces development and maintenance time.    \n",
        "  . Data Hiding (Encapsulation)      \n",
        "  Internal Object details are hidden from the outside world.    \n",
        "  Only required information is exposed via methods.    \n",
        "  Improves security and reduces complexity.    \n",
        "  . Polymorphism       \n",
        "  Same function name can behave differently based on context.   \n",
        "  Supports flexibility and bynamic behavior in code.    \n",
        "  . Abstraction      \n",
        "  Shows only essential features; hides implementation details.     \n",
        "  Improves clarity and focus on what an oject does instead of how.    \n",
        "  "
      ],
      "metadata": {
        "id": "SUxFSme4Vxu8"
      }
    },
    {
      "cell_type": "markdown",
      "source": [
        "17. What is the difference between a class variable and an instance variable ?      \n",
        "  - Class Variable :     \n",
        "  A class variable is shared across all instances (objects) of the class.  \n",
        "  It is defined inside the class, but outside all methods.        \n",
        "  Used when you want to keep common information for all objects.       \n",
        "  Intance Variable:     \n",
        "  An instance variable is unique to each object of the class.      \n",
        "  It is defined using self inside the constructor or other methods.      \n",
        "  Used to store object-specific data.\n"
      ],
      "metadata": {
        "id": "zOOMI3L8d6V1"
      }
    },
    {
      "cell_type": "code",
      "source": [
        "class Student:\n",
        "    school_name = \"ABC School\"  # Class variable\n",
        "\n",
        "    def __init__(self, name):\n",
        "        self.name = name        # Instance variable\n",
        "\n",
        "# Creating objects\n",
        "s1 = Student(\"Ajay\")\n",
        "s2 = Student(\"Ravi\")\n",
        "\n",
        "print(s1.name)\n",
        "print(s2.name)\n",
        "\n",
        "print(s1.school_name)\n",
        "print(s2.school_name)\n",
        "\n",
        "# Changing class variable\n",
        "Student.school_name = \"XYZ School\"\n",
        "\n",
        "print(s1.school_name)\n",
        "print(s2.school_name)\n"
      ],
      "metadata": {
        "colab": {
          "base_uri": "https://localhost:8080/"
        },
        "id": "A9FucXDwfUgd",
        "outputId": "6430914e-3304-4f9d-b780-ecd33c0e8e07"
      },
      "execution_count": null,
      "outputs": [
        {
          "output_type": "stream",
          "name": "stdout",
          "text": [
            "Ajay\n",
            "Ravi\n",
            "ABC School\n",
            "ABC School\n",
            "XYZ School\n",
            "XYZ School\n"
          ]
        }
      ]
    },
    {
      "cell_type": "markdown",
      "source": [
        "18. What is multiple inheritance in Python ?     \n",
        "  - Multiple Inheritance is a feature in Python where a class can inherit from more than one parent class.\n",
        "  This allows a child class to access properties and methods from multiple base classes.       \n",
        "  Python handles multiple inheritance using Method Resolution Order (MRO), which determines the order in which base classes are searched when a method is called.      \n",
        "  Use ClassName.__mro__ or help(ClassName) to check MRO.\n",
        "\n"
      ],
      "metadata": {
        "id": "rlcnHB43fhsF"
      }
    },
    {
      "cell_type": "code",
      "source": [
        "class Person:\n",
        "    def show_person(self):\n",
        "        print(\"Person details\")\n",
        "\n",
        "class Employee:\n",
        "    def show_employee(self):\n",
        "        print(\"Employee details\")\n",
        "\n",
        "class Manager(Person, Employee):\n",
        "    pass\n",
        "\n",
        "m = Manager()\n",
        "m.show_person()   # Inherited from Person\n",
        "m.show_employee() # Inherited from Employee\n"
      ],
      "metadata": {
        "colab": {
          "base_uri": "https://localhost:8080/"
        },
        "id": "It1TGGSWgSIr",
        "outputId": "52494e1f-0bf5-47b5-ca9f-a214ab0ddd6a"
      },
      "execution_count": null,
      "outputs": [
        {
          "output_type": "stream",
          "name": "stdout",
          "text": [
            "Person details\n",
            "Employee details\n"
          ]
        }
      ]
    },
    {
      "cell_type": "markdown",
      "source": [
        "19. Explain the purpose of ‘’__str__’ and ‘__repr__’ ‘ methods in Python.     \n",
        "  - In Python, both __str__() and __repr__() are dunder (double underscore) methods used to define how an object is represented as a string. They serve different purposes:      \n",
        "   🔸 __str__() – User-Friendly String Representation :      \n",
        "   .Used when you call print(obj) or str(obj)     \n",
        "   . Should return a readable and informal string for end users    \n",
        "   . Good for displaying output      \n",
        "   🔸 __repr__() – Developer-Friendly String Representation:    \n",
        "   Used when you call repr(obj) or in interactive mode (obj)     \n",
        "   Should return a formal and unambiguous string     \n",
        "   Often used for debugging and logging   \n",
        "   Ideally, it should return a string that could recreate the object"
      ],
      "metadata": {
        "id": "HqTSlFUvgmsk"
      }
    },
    {
      "cell_type": "code",
      "source": [
        "class Person:\n",
        "    def __init__(self, name):\n",
        "        self.name = name\n",
        "\n",
        "    def __repr__(self):\n",
        "        return f\"Person('{self.name}')\"\n",
        "\n",
        "p = Person(\"Ajay\")\n",
        "print(repr(p))\n"
      ],
      "metadata": {
        "colab": {
          "base_uri": "https://localhost:8080/"
        },
        "id": "Q_OpypnMh0-E",
        "outputId": "4a7420a0-803f-4d95-dea9-d1dddc038ea2"
      },
      "execution_count": null,
      "outputs": [
        {
          "output_type": "stream",
          "name": "stdout",
          "text": [
            "Person('Ajay')\n"
          ]
        }
      ]
    },
    {
      "cell_type": "markdown",
      "source": [
        "20.  What is the significance of the ‘super()’ function in Python ?          \n",
        "  - The super() function in Python is used to call methods from a parent (super) class inside a child class.   \n",
        "  It is especially useful in inheritance, where you want to extend or modify the behavior of the parent class without rewriting its code.      \n",
        "  To reuse code from the parent class   \n",
        "  To maintain method resolution order (MRO) in multiple inheritance     \n",
        "  To ensure consistent initialization across base classes"
      ],
      "metadata": {
        "id": "syRA26Chh6le"
      }
    },
    {
      "cell_type": "code",
      "source": [
        "class Animal:\n",
        "    def __init__(self, name):\n",
        "        self.name = name\n",
        "\n",
        "    def speak(self):\n",
        "        return f\"{self.name} makes a sound\"\n",
        "\n",
        "class Dog(Animal):\n",
        "    def __init__(self, name, breed):\n",
        "        super().__init__(name)  # Call parent class constructor\n",
        "        self.breed = breed\n",
        "\n",
        "    def speak(self):\n",
        "        return f\"{super().speak()} and barks\"  # Call parent class method\n",
        "\n",
        "dog = Dog(\"Tommy\", \"Labrador\")\n",
        "print(dog.speak())\n"
      ],
      "metadata": {
        "colab": {
          "base_uri": "https://localhost:8080/"
        },
        "id": "fe5sxOKeicGz",
        "outputId": "8a956c39-d99b-4d3c-80cf-d15a863c3eb0"
      },
      "execution_count": null,
      "outputs": [
        {
          "output_type": "stream",
          "name": "stdout",
          "text": [
            "Tommy makes a sound and barks\n"
          ]
        }
      ]
    },
    {
      "cell_type": "markdown",
      "source": [
        "21. What is the significance of the __del__ method in Python ?     \n",
        "  - The __del__() method in Python is called destructor. It is automatically invoked when an object is about to be destroyed (i.e., when it is garbage collected).     \n",
        "  It’s used to clean up resources (like closing files, network connections, or releasing memory) before the object is removed from memory.      \n",
        "  Key Points :     \n",
        "  Called when there are no more references to the object.      \n",
        "  Not always reliable — may not be called immediately.     \n",
        "  Use cautiously, especially with file or DB connections."
      ],
      "metadata": {
        "id": "TLVgRk6Yigvr"
      }
    },
    {
      "cell_type": "code",
      "source": [
        "class FileHandler:\n",
        "    def __init__(self, filename):\n",
        "        self.file = open(filename, 'w')\n",
        "        print(\"File opened.\")\n",
        "\n",
        "    def write_data(self, data):\n",
        "        self.file.write(data)\n",
        "\n",
        "    def __del__(self):\n",
        "        self.file.close()\n",
        "        print(\"File closed.\")\n",
        "\n",
        "# Create and use object\n",
        "f = FileHandler(\"sample.txt\")\n",
        "f.write_data(\"Hello, world!\")\n",
        "\n",
        "# Delete the object\n",
        "del f\n"
      ],
      "metadata": {
        "colab": {
          "base_uri": "https://localhost:8080/"
        },
        "id": "X1OeZodwjEL8",
        "outputId": "c477eb9d-d33f-406a-e51f-41c01925796a"
      },
      "execution_count": null,
      "outputs": [
        {
          "output_type": "stream",
          "name": "stdout",
          "text": [
            "File opened.\n",
            "File closed.\n"
          ]
        }
      ]
    },
    {
      "cell_type": "markdown",
      "source": [
        "22. What is the difference between @staticmethod and @classmethod in Python ?     \n",
        "  - Python provides two special types of methods inside a class: @staticmethod and @classmethod. Both can be called using the class name, but they behave differently.\n",
        "\n",
        "  1. @staticmethod :     \n",
        "  Does not take any special first argument like self or cls.     \n",
        "  Cannot access or modify class state or instance state.     \n",
        "  Acts like a regular function but belongs to the class's namespace.     \n",
        "  Use it when you want a function that's logically related to the class, but does not need access to class or instance data.      \n",
        "\n",
        " 2. @classmethod :     \n",
        " Takes cls as the first parameter (refers to the class itself).     \n",
        " Can access or modify class-level variables.     \n",
        " Often used for factory methods or alternative constructors.     \n",
        " Use it when you want to create or modify class-level state, or create new instances in a different way."
      ],
      "metadata": {
        "id": "CRnlZMKijHY4"
      }
    },
    {
      "cell_type": "code",
      "source": [
        "class Person:\n",
        "    population = 0\n",
        "\n",
        "    def __init__(self, name):\n",
        "        self.name = name\n",
        "        Person.population += 1\n",
        "\n",
        "    @classmethod\n",
        "    def how_many(cls):\n",
        "        return f\"Total population: {cls.population}\"\n",
        "\n",
        "p1 = Person(\"Alice\")\n",
        "p2 = Person(\"Bob\")\n",
        "\n",
        "print(Person.how_many())\n"
      ],
      "metadata": {
        "colab": {
          "base_uri": "https://localhost:8080/"
        },
        "id": "tzVzUOV7kEfr",
        "outputId": "d9bde558-14ac-4564-92c4-f239cd582c70"
      },
      "execution_count": null,
      "outputs": [
        {
          "output_type": "stream",
          "name": "stdout",
          "text": [
            "Total population: 2\n"
          ]
        }
      ]
    },
    {
      "cell_type": "markdown",
      "source": [
        "23. How does polymorphism work in Python with inheritance ?     \n",
        "  - Polymorphism in Python allows objects of different classes to be treated as if they are objects of the same class, especially when they share a common parent class.     \n",
        "  This is often achieved using inheritance, where child classes override the parent class methods, and the same method call behaves differently depending on the object.    \n",
        "  How It Works (With Inheritance):     \n",
        "  A base class defines a method.   \n",
        "  Subclasses override that method with their own behavior.     \n",
        "  The method can be called on any subclass object, and the correct version will run depending on the object's class."
      ],
      "metadata": {
        "id": "84J5V6tUkRCh"
      }
    },
    {
      "cell_type": "code",
      "source": [
        "class Animal:\n",
        "    def speak(self):\n",
        "        return \"Some sound\"\n",
        "\n",
        "class Dog(Animal):\n",
        "    def speak(self):\n",
        "        return \"Bark\"\n",
        "\n",
        "class Cat(Animal):\n",
        "    def speak(self):\n",
        "        return \"Meow\"\n",
        "\n",
        "# Polymorphism in action\n",
        "def make_animal_speak(animal):\n",
        "    print(animal.speak())\n",
        "\n",
        "dog = Dog()\n",
        "cat = Cat()\n",
        "\n",
        "make_animal_speak(dog)\n",
        "make_animal_speak(cat)\n"
      ],
      "metadata": {
        "colab": {
          "base_uri": "https://localhost:8080/"
        },
        "id": "Fm_HPe2pk18D",
        "outputId": "1861f4fd-8b4c-4ff7-b734-a49cb30c8d96"
      },
      "execution_count": null,
      "outputs": [
        {
          "output_type": "stream",
          "name": "stdout",
          "text": [
            "Bark\n",
            "Meow\n"
          ]
        }
      ]
    },
    {
      "cell_type": "markdown",
      "source": [
        "24.  What is method chaining in Python OOP ?    \n",
        "  - Method chaining is a technique where multiple methods are called sequentially on the same object in a single line, using dot (.) notation.   \n",
        "  For this to work, each method must return self, allowing the next method to be called on the same object.      \n",
        "  Improves readability     \n",
        "  Allows fluent programming     \n",
        "  Makes code compact"
      ],
      "metadata": {
        "id": "4Gpweq_uk9-I"
      }
    },
    {
      "cell_type": "code",
      "source": [
        "class Person:\n",
        "    def __init__(self):\n",
        "        self.name = \"\"\n",
        "        self.age = 0\n",
        "\n",
        "    def set_name(self, name):\n",
        "        self.name = name\n",
        "        return self\n",
        "\n",
        "    def set_age(self, age):\n",
        "        self.age = age\n",
        "        return self\n",
        "\n",
        "    def display(self):\n",
        "        print(f\"Name: {self.name}, Age: {self.age}\")\n",
        "        return self\n",
        "\n",
        "# Method chaining\n",
        "person = Person()\n",
        "person.set_name(\"Ajay\").set_age(25).display()\n"
      ],
      "metadata": {
        "colab": {
          "base_uri": "https://localhost:8080/"
        },
        "id": "G-z31dzPldjt",
        "outputId": "a8c3da15-23e0-4c02-bcc8-9c084e77e014"
      },
      "execution_count": null,
      "outputs": [
        {
          "output_type": "stream",
          "name": "stdout",
          "text": [
            "Name: Ajay, Age: 25\n"
          ]
        },
        {
          "output_type": "execute_result",
          "data": {
            "text/plain": [
              "<__main__.Person at 0x7818d19fef50>"
            ]
          },
          "metadata": {},
          "execution_count": 18
        }
      ]
    },
    {
      "cell_type": "markdown",
      "source": [
        "25. What is the purpose of the __call__ method in Python ?    \n",
        "  - The __call__ method in Python allows an object to be called like a function.     \n",
        "  If a class defines a __call__ method, its instances can be called using parentheses, just like regular functions.     \n",
        "  To make objects behave like functions       \n",
        "  Useful in function wrappers, decorators, custom callable classes, etc."
      ],
      "metadata": {
        "id": "8Bkzux2sljqb"
      }
    },
    {
      "cell_type": "code",
      "source": [
        "class Greet:\n",
        "    def __init__(self, name):\n",
        "        self.name = name\n",
        "\n",
        "    def __call__(self):\n",
        "        print(f\"Hello, {self.name}!\")\n",
        "\n",
        "# Create an object\n",
        "g = Greet(\"Ajay\")\n",
        "\n",
        "# Call the object like a function\n",
        "g()  # Internally calls g.__call__()\n"
      ],
      "metadata": {
        "colab": {
          "base_uri": "https://localhost:8080/"
        },
        "id": "s0o4Wk2Zl5sT",
        "outputId": "e2ffb66d-7f51-4018-c909-6d9e2d743664"
      },
      "execution_count": null,
      "outputs": [
        {
          "output_type": "stream",
          "name": "stdout",
          "text": [
            "Hello, Ajay!\n"
          ]
        }
      ]
    },
    {
      "cell_type": "markdown",
      "source": [
        "# Practical Questions       \n",
        "\n",
        "1. Create a parent class Animal with a method speak() that prints a generic message. Create a child class Dog\n",
        "that overrides the speak() method to print \"Bark!\".      \n",
        "  "
      ],
      "metadata": {
        "id": "xKZO2K_4l9HW"
      }
    },
    {
      "cell_type": "code",
      "source": [
        "#Parent class\n",
        "\n",
        "class Animal:\n",
        "  def speak(self):\n",
        "    print(\"Animal makes a sound\")\n",
        "\n",
        "#child class\n",
        "\n",
        "class Dog (Animal):\n",
        "  def speak(self):\n",
        "    print(\"Bark!\")\n",
        "\n",
        "\n",
        "# Create objects and test\n",
        "\n",
        "a = Animal()\n",
        "a.speak()\n",
        "\n",
        "d = Dog()\n",
        "d.speak()"
      ],
      "metadata": {
        "colab": {
          "base_uri": "https://localhost:8080/"
        },
        "id": "xSW1mPt7-Qe-",
        "outputId": "15999e69-6627-4301-dd25-7e755acb449a"
      },
      "execution_count": 1,
      "outputs": [
        {
          "output_type": "stream",
          "name": "stdout",
          "text": [
            "Animal makes a sound\n",
            "Bark!\n"
          ]
        }
      ]
    },
    {
      "cell_type": "markdown",
      "source": [
        "2.  Write a program to create an abstract class Shape with a method area(). Derive classes Circle and Rectangle\n",
        "from it and implement the area() method in both .     \n"
      ],
      "metadata": {
        "id": "ZZrptViS-8qV"
      }
    },
    {
      "cell_type": "code",
      "source": [
        "from abc import ABC, abstractmethod\n",
        "import math\n",
        "\n",
        "# Abstract class\n",
        "class Shape(ABC):\n",
        "    @abstractmethod\n",
        "    def area(self):\n",
        "        pass\n",
        "\n",
        "# Derived class: Circle\n",
        "class Circle(Shape):\n",
        "    def __init__(self, radius):\n",
        "        self.radius = radius\n",
        "\n",
        "    def area(self):\n",
        "        return math.pi * self.radius ** 2\n",
        "\n",
        "# Derived class: Rectangle\n",
        "class Rectangle(Shape):\n",
        "    def __init__(self, length, width):\n",
        "        self.length = length\n",
        "        self.width = width\n",
        "\n",
        "    def area(self):\n",
        "        return self.length * self.width\n",
        "\n",
        "# Create objects and test\n",
        "c = Circle(5)\n",
        "r = Rectangle(4, 6)\n",
        "\n",
        "print(\"Area of Circle:\", c.area())\n",
        "print(\"Area of Rectangle:\", r.area())"
      ],
      "metadata": {
        "colab": {
          "base_uri": "https://localhost:8080/"
        },
        "id": "BBMydDv9_S3_",
        "outputId": "7908b201-fb0b-4ab8-c5ce-67bff93b04f7"
      },
      "execution_count": 2,
      "outputs": [
        {
          "output_type": "stream",
          "name": "stdout",
          "text": [
            "Area of Circle: 78.53981633974483\n",
            "Area of Rectangle: 24\n"
          ]
        }
      ]
    },
    {
      "cell_type": "markdown",
      "source": [
        "3.  Implement a multi-level inheritance scenario where a class Vehicle has an attribute type. Derive a class Car\n",
        "and further derive a class ElectricCar that adds a battery attribute."
      ],
      "metadata": {
        "id": "VyonNS0g_bnI"
      }
    },
    {
      "cell_type": "code",
      "source": [
        "# Base class\n",
        "class Vehicle:\n",
        "    def __init__(self, vehicle_type):\n",
        "        self.vehicle_type = vehicle_type\n",
        "\n",
        "# First derived class\n",
        "class Car(Vehicle):\n",
        "    def __init__(self, vehicle_type, brand):\n",
        "        super().__init__(vehicle_type)\n",
        "        self.brand = brand\n",
        "\n",
        "# Second derived class (Multi-level)\n",
        "class ElectricCar(Car):\n",
        "    def __init__(self, vehicle_type, brand, battery_capacity):\n",
        "        super().__init__(vehicle_type, brand)\n",
        "        self.battery_capacity = battery_capacity\n",
        "\n",
        "    def display_info(self):\n",
        "        print(f\"Type: {self.vehicle_type}\")\n",
        "        print(f\"Brand: {self.brand}\")\n",
        "        print(f\"Battery: {self.battery_capacity} kWh\")\n",
        "\n",
        "# Creating an object of ElectricCar\n",
        "ecar = ElectricCar(\"4-wheeler\", \"Tesla\", 75)\n",
        "ecar.display_info()\n"
      ],
      "metadata": {
        "colab": {
          "base_uri": "https://localhost:8080/"
        },
        "id": "nKlGBKo8_sA5",
        "outputId": "45d3cdd8-97bc-410b-8b29-664476f8dc1b"
      },
      "execution_count": 3,
      "outputs": [
        {
          "output_type": "stream",
          "name": "stdout",
          "text": [
            "Type: 4-wheeler\n",
            "Brand: Tesla\n",
            "Battery: 75 kWh\n"
          ]
        }
      ]
    },
    {
      "cell_type": "markdown",
      "source": [
        "4. Demonstrate polymorphism by creating a base class Bird with a method fly(). Create two derived classes\n",
        "Sparrow and Penguin that override the fly() method.\n"
      ],
      "metadata": {
        "id": "UmafkGpb_zAk"
      }
    },
    {
      "cell_type": "code",
      "source": [
        "# Base class\n",
        "class Bird:\n",
        "    def fly(self):\n",
        "        print(\"Some birds can fly.\")\n",
        "\n",
        "# Derived class 1\n",
        "class Sparrow(Bird):\n",
        "    def fly(self):\n",
        "        print(\"Sparrow flies high in the sky.\")\n",
        "\n",
        "# Derived class 2\n",
        "class Penguin(Bird):\n",
        "    def fly(self):\n",
        "        print(\"Penguins can't fly, but they swim well.\")\n",
        "\n",
        "# Polymorphic behavior\n",
        "def bird_fly_test(bird):\n",
        "    bird.fly()\n",
        "\n",
        "# Creating objects\n",
        "sparrow = Sparrow()\n",
        "penguin = Penguin()\n",
        "\n",
        "# Testing polymorphism\n",
        "bird_fly_test(sparrow)\n",
        "bird_fly_test(penguin)"
      ],
      "metadata": {
        "colab": {
          "base_uri": "https://localhost:8080/"
        },
        "id": "Vds_klJWAAQf",
        "outputId": "152c91f4-958b-44e0-87bf-3a4d37750734"
      },
      "execution_count": 4,
      "outputs": [
        {
          "output_type": "stream",
          "name": "stdout",
          "text": [
            "Sparrow flies high in the sky.\n",
            "Penguins can't fly, but they swim well.\n"
          ]
        }
      ]
    },
    {
      "cell_type": "markdown",
      "source": [
        "5. Write a program to demonstrate encapsulation by creating a class BankAccount with private attributes\n",
        "balance and methods to deposit, withdraw, and check balance ."
      ],
      "metadata": {
        "id": "DtF2d6jBAHbn"
      }
    },
    {
      "cell_type": "code",
      "source": [
        "class BankAccount:\n",
        "    def __init__(self, initial_balance=0):\n",
        "        self.__balance = initial_balance  # private attribute\n",
        "\n",
        "    def deposit(self, amount):\n",
        "        if amount > 0:\n",
        "            self.__balance += amount\n",
        "            print(f\"Deposited: ₹{amount}\")\n",
        "        else:\n",
        "            print(\"Invalid deposit amount\")\n",
        "\n",
        "    def withdraw(self, amount):\n",
        "        if 0 < amount <= self.__balance:\n",
        "            self.__balance -= amount\n",
        "            print(f\"Withdrawn: ₹{amount}\")\n",
        "        else:\n",
        "            print(\"Insufficient balance or invalid amount\")\n",
        "\n",
        "    def check_balance(self):\n",
        "        print(f\"Current Balance: ₹{self.__balance}\")\n",
        "\n",
        "\n",
        "# Usage\n",
        "account = BankAccount(1000)\n",
        "account.deposit(500)\n",
        "account.withdraw(200)\n",
        "account.check_balance()\n"
      ],
      "metadata": {
        "colab": {
          "base_uri": "https://localhost:8080/"
        },
        "id": "GvTe_GHfARXA",
        "outputId": "de7cea3d-d2ea-4c05-ba9b-b441f3f1591e"
      },
      "execution_count": 5,
      "outputs": [
        {
          "output_type": "stream",
          "name": "stdout",
          "text": [
            "Deposited: ₹500\n",
            "Withdrawn: ₹200\n",
            "Current Balance: ₹1300\n"
          ]
        }
      ]
    },
    {
      "cell_type": "markdown",
      "source": [
        "6. Demonstrate runtime polymorphism using a method play() in a base class Instrument. Derive classes Guitar\n",
        "and Piano that implement their own version of play() ."
      ],
      "metadata": {
        "id": "A8c7wPM1AixJ"
      }
    },
    {
      "cell_type": "code",
      "source": [
        "class Instrument:\n",
        "    def play(self):\n",
        "        print(\"Playing an instrument\")\n",
        "\n",
        "class Guitar(Instrument):\n",
        "    def play(self):\n",
        "        print(\"Strumming the guitar\")\n",
        "\n",
        "class Piano(Instrument):\n",
        "    def play(self):\n",
        "        print(\"Playing the piano\")\n",
        "\n",
        "# Polymorphism in action\n",
        "def show_instrument_playing(instrument):\n",
        "    instrument.play()\n",
        "\n",
        "# Usage\n",
        "instruments = [Guitar(), Piano()]\n",
        "\n",
        "for inst in instruments:\n",
        "    show_instrument_playing(inst)\n"
      ],
      "metadata": {
        "colab": {
          "base_uri": "https://localhost:8080/"
        },
        "id": "zsVNkAqjAwZS",
        "outputId": "34e4d7c0-d718-4be3-ef7e-fdf3a915a250"
      },
      "execution_count": 6,
      "outputs": [
        {
          "output_type": "stream",
          "name": "stdout",
          "text": [
            "Strumming the guitar\n",
            "Playing the piano\n"
          ]
        }
      ]
    },
    {
      "cell_type": "markdown",
      "source": [
        "7. Create a class MathOperations with a class method add_numbers() to add two numbers and a static\n",
        "method subtract_numbers() to subtract two numbers."
      ],
      "metadata": {
        "id": "lcZtFLZ3A2ED"
      }
    },
    {
      "cell_type": "code",
      "source": [
        "class MathOperations:\n",
        "\n",
        "    @classmethod\n",
        "    def add_numbers(cls, a, b):\n",
        "        return a + b\n",
        "\n",
        "    @staticmethod\n",
        "    def subtract_numbers(a, b):\n",
        "        return a - b\n",
        "\n",
        "# Using class method\n",
        "sum_result = MathOperations.add_numbers(10, 5)\n",
        "print(\"Addition:\", sum_result)\n",
        "\n",
        "# Using static method\n",
        "sub_result = MathOperations.subtract_numbers(10, 5)\n",
        "print(\"Subtraction:\", sub_result)\n"
      ],
      "metadata": {
        "colab": {
          "base_uri": "https://localhost:8080/"
        },
        "id": "BdtYG7ReBHXW",
        "outputId": "93caee30-b135-4b06-b157-99634afcbf72"
      },
      "execution_count": 7,
      "outputs": [
        {
          "output_type": "stream",
          "name": "stdout",
          "text": [
            "Addition: 15\n",
            "Subtraction: 5\n"
          ]
        }
      ]
    },
    {
      "cell_type": "markdown",
      "source": [
        "8. Implement a class Person with a class method to count the total number of persons created."
      ],
      "metadata": {
        "id": "0Y0yelysBJXi"
      }
    },
    {
      "cell_type": "code",
      "source": [
        "class Person:\n",
        "    count = 0  # Class variable to count number of Person instances\n",
        "\n",
        "    def __init__(self, name):\n",
        "        self.name = name\n",
        "        Person.count += 1  # Increment count on every new object\n",
        "\n",
        "    @classmethod\n",
        "    def total_persons(cls):\n",
        "        return cls.count\n",
        "\n",
        "# Creating Person objects\n",
        "p1 = Person(\"Alice\")\n",
        "p2 = Person(\"Bob\")\n",
        "p3 = Person(\"Charlie\")\n",
        "\n",
        "# Display total number of persons\n",
        "print(\"Total persons created:\", Person.total_persons())\n"
      ],
      "metadata": {
        "colab": {
          "base_uri": "https://localhost:8080/"
        },
        "id": "DAkryRscBaN7",
        "outputId": "98f410c4-b64b-4a6a-9674-869e1411bdbc"
      },
      "execution_count": 8,
      "outputs": [
        {
          "output_type": "stream",
          "name": "stdout",
          "text": [
            "Total persons created: 3\n"
          ]
        }
      ]
    },
    {
      "cell_type": "markdown",
      "source": [
        "9. Write a class Fraction with attributes numerator and denominator. Override the str method to display the\n",
        "fraction as \"numerator/denominator\"."
      ],
      "metadata": {
        "id": "pCltQZpRBjO0"
      }
    },
    {
      "cell_type": "code",
      "source": [
        "class Fraction:\n",
        "    def __init__(self, numerator, denominator):\n",
        "        self.numerator = numerator\n",
        "        self.denominator = denominator\n",
        "\n",
        "    def __str__(self):\n",
        "        return f\"{self.numerator}/{self.denominator}\"\n",
        "\n",
        "# Creating and printing a Fraction object\n",
        "f = Fraction(3, 4)\n",
        "print(f)"
      ],
      "metadata": {
        "colab": {
          "base_uri": "https://localhost:8080/"
        },
        "id": "zR3e9LljBuep",
        "outputId": "992bcb6c-5575-4bc5-c425-a59d2acd5633"
      },
      "execution_count": 9,
      "outputs": [
        {
          "output_type": "stream",
          "name": "stdout",
          "text": [
            "3/4\n"
          ]
        }
      ]
    },
    {
      "cell_type": "markdown",
      "source": [
        "10. Demonstrate operator overloading by creating a class Vector and overriding the add method to add two\n",
        "vectors ."
      ],
      "metadata": {
        "id": "s9RD4R-nBzNS"
      }
    },
    {
      "cell_type": "code",
      "source": [
        "class Vector:\n",
        "    def __init__(self, x, y):\n",
        "        self.x = x\n",
        "        self.y = y\n",
        "\n",
        "    def __add__(self, other):\n",
        "        return Vector(self.x + other.x, self.y + other.y)\n",
        "\n",
        "    def __str__(self):\n",
        "        return f\"({self.x}, {self.y})\"\n",
        "\n",
        "# Creating two vector objects\n",
        "v1 = Vector(2, 3)\n",
        "v2 = Vector(4, 5)\n",
        "\n",
        "# Adding two vectors\n",
        "v3 = v1 + v2\n",
        "print(\"Sum of vectors:\", v3)\n"
      ],
      "metadata": {
        "colab": {
          "base_uri": "https://localhost:8080/"
        },
        "id": "S73a139BB5Yn",
        "outputId": "16b9cf44-d604-476e-abbb-d25be4ecaafc"
      },
      "execution_count": 10,
      "outputs": [
        {
          "output_type": "stream",
          "name": "stdout",
          "text": [
            "Sum of vectors: (6, 8)\n"
          ]
        }
      ]
    },
    {
      "cell_type": "markdown",
      "source": [
        "11. Create a class Person with attributes name and age. Add a method greet() that prints \"Hello, my name is\n",
        "{name} and I am {age} years old.\"\n",
        "\n",
        "\n"
      ],
      "metadata": {
        "id": "6jtTx__BCFBO"
      }
    },
    {
      "cell_type": "code",
      "source": [
        "class Person:\n",
        "    def __init__(self, name, age):\n",
        "        self.name = name\n",
        "        self.age = age\n",
        "\n",
        "    def greet(self):\n",
        "        print(f\"Hello, my name is {self.name} and I am {self.age} years old.\")\n",
        "\n",
        "# Creating a Person object\n",
        "person1 = Person(\"Ajay\", 25)\n",
        "\n",
        "# Calling the greet method\n",
        "person1.greet()\n"
      ],
      "metadata": {
        "colab": {
          "base_uri": "https://localhost:8080/"
        },
        "id": "_QgIMXxvCKB7",
        "outputId": "ec501e1e-5f37-4674-e95c-9f07f179951a"
      },
      "execution_count": 11,
      "outputs": [
        {
          "output_type": "stream",
          "name": "stdout",
          "text": [
            "Hello, my name is Ajay and I am 25 years old.\n"
          ]
        }
      ]
    },
    {
      "cell_type": "markdown",
      "source": [
        "12. Implement a class Student with attributes name and grades. Create a method average_grade() to compute\n",
        "the average of the grades."
      ],
      "metadata": {
        "id": "Ov2dAhuVCVpX"
      }
    },
    {
      "cell_type": "code",
      "source": [
        "class Student:\n",
        "    def __init__(self, name, grades):\n",
        "        self.name = name\n",
        "        self.grades = grades\n",
        "\n",
        "    def average_grade(self):\n",
        "        if self.grades:\n",
        "            return sum(self.grades) / len(self.grades)\n",
        "        return 0\n",
        "\n",
        "# Example usage\n",
        "student1 = Student(\"Ajay\", [85, 90, 78, 92])\n",
        "print(f\"{student1.name}'s average grade is {student1.average_grade():.2f}\")\n"
      ],
      "metadata": {
        "colab": {
          "base_uri": "https://localhost:8080/"
        },
        "id": "wJWryyBxCZPE",
        "outputId": "e1626d03-46db-491b-84c7-5cf930a01f14"
      },
      "execution_count": 12,
      "outputs": [
        {
          "output_type": "stream",
          "name": "stdout",
          "text": [
            "Ajay's average grade is 86.25\n"
          ]
        }
      ]
    },
    {
      "cell_type": "markdown",
      "source": [
        "13. Create a class Rectangle with methods set_dimensions() to set the dimensions and area() to calculate the\n",
        "area."
      ],
      "metadata": {
        "id": "X8U8HzgkCtJW"
      }
    },
    {
      "cell_type": "code",
      "source": [
        "class Rectangle:\n",
        "    def __init__(self):\n",
        "        self.length = 0\n",
        "        self.width = 0\n",
        "\n",
        "    def set_dimensions(self, length, width):\n",
        "        self.length = length\n",
        "        self.width = width\n",
        "\n",
        "    def area(self):\n",
        "        return self.length * self.width\n",
        "\n",
        "# Example usage\n",
        "rect = Rectangle()\n",
        "rect.set_dimensions(5, 10)\n",
        "print(f\"Area of rectangle is {rect.area()}\")\n"
      ],
      "metadata": {
        "colab": {
          "base_uri": "https://localhost:8080/"
        },
        "id": "V_uU8cASCzMG",
        "outputId": "895b9dc2-59d2-4950-ef3c-0793d661c4ff"
      },
      "execution_count": 13,
      "outputs": [
        {
          "output_type": "stream",
          "name": "stdout",
          "text": [
            "Area of rectangle is 50\n"
          ]
        }
      ]
    },
    {
      "cell_type": "markdown",
      "source": [
        "14. Create a class Employee with a method calculate_salary() that computes the salary based on hours worked\n",
        "and hourly rate. Create a derived class Manager that adds a bonus to the salary."
      ],
      "metadata": {
        "id": "ghaGEKXhC-6J"
      }
    },
    {
      "cell_type": "code",
      "source": [
        "class Employee:\n",
        "    def __init__(self, name, hours_worked, hourly_rate):\n",
        "        self.name = name\n",
        "        self.hours_worked = hours_worked\n",
        "        self.hourly_rate = hourly_rate\n",
        "\n",
        "    def calculate_salary(self):\n",
        "        return self.hours_worked * self.hourly_rate\n",
        "\n",
        "class Manager(Employee):\n",
        "    def __init__(self, name, hours_worked, hourly_rate, bonus):\n",
        "        super().__init__(name, hours_worked, hourly_rate)\n",
        "        self.bonus = bonus\n",
        "\n",
        "    def calculate_salary(self):\n",
        "        base_salary = super().calculate_salary()\n",
        "        return base_salary + self.bonus\n",
        "\n",
        "# Example usage\n",
        "emp = Employee(\"John\", 40, 20)\n",
        "mgr = Manager(\"Alice\", 40, 30, 500)\n",
        "\n",
        "print(f\"{emp.name}'s Salary: ${emp.calculate_salary()}\")\n",
        "print(f\"{mgr.name}'s Salary: ${mgr.calculate_salary()}\")\n"
      ],
      "metadata": {
        "colab": {
          "base_uri": "https://localhost:8080/"
        },
        "id": "2bYhY3LmDGAE",
        "outputId": "52a3b60c-8709-4600-989c-c40f62d8063c"
      },
      "execution_count": 14,
      "outputs": [
        {
          "output_type": "stream",
          "name": "stdout",
          "text": [
            "John's Salary: $800\n",
            "Alice's Salary: $1700\n"
          ]
        }
      ]
    },
    {
      "cell_type": "markdown",
      "source": [
        "15. Create a class Product with attributes name, price, and quantity. Implement a method total_price() that\n",
        "calculates the total price of the product."
      ],
      "metadata": {
        "id": "K7ZjY5UDDDss"
      }
    },
    {
      "cell_type": "code",
      "source": [
        "class Product:\n",
        "    def __init__(self, name, price, quantity):\n",
        "        self.name = name\n",
        "        self.price = price\n",
        "        self.quantity = quantity\n",
        "\n",
        "    def total_price(self):\n",
        "        return self.price * self.quantity\n",
        "\n",
        "# Example usage\n",
        "item = Product(\"Laptop\", 55000, 2)\n",
        "print(f\"Total price for {item.name}s: ₹{item.total_price()}\")\n"
      ],
      "metadata": {
        "colab": {
          "base_uri": "https://localhost:8080/"
        },
        "id": "qEEnO_O0Dak0",
        "outputId": "dfd7ed19-538a-4d42-eb26-2c24d33b1951"
      },
      "execution_count": 15,
      "outputs": [
        {
          "output_type": "stream",
          "name": "stdout",
          "text": [
            "Total price for Laptops: ₹110000\n"
          ]
        }
      ]
    },
    {
      "cell_type": "markdown",
      "source": [
        "16. Create a class Animal with an abstract method sound(). Create two derived classes Cow and Sheep that\n",
        "implement the sound() method."
      ],
      "metadata": {
        "id": "VSUKyO_TDmsZ"
      }
    },
    {
      "cell_type": "code",
      "source": [
        "from abc import ABC, abstractmethod\n",
        "\n",
        "# Abstract Base Class\n",
        "class Animal(ABC):\n",
        "    @abstractmethod\n",
        "    def sound(self):\n",
        "        pass\n",
        "\n",
        "# Derived Class 1\n",
        "class Cow(Animal):\n",
        "    def sound(self):\n",
        "        return \"Moo\"\n",
        "\n",
        "# Derived Class 2\n",
        "class Sheep(Animal):\n",
        "    def sound(self):\n",
        "        return \"Baa\"\n",
        "\n",
        "# Example usage\n",
        "cow = Cow()\n",
        "sheep = Sheep()\n",
        "\n",
        "print(\"Cow sound:\", cow.sound())\n",
        "print(\"Sheep sound:\", sheep.sound())\n"
      ],
      "metadata": {
        "colab": {
          "base_uri": "https://localhost:8080/"
        },
        "id": "x3-dLP1rDrmQ",
        "outputId": "44d71c5d-e5c5-44db-f051-58853d195c48"
      },
      "execution_count": 16,
      "outputs": [
        {
          "output_type": "stream",
          "name": "stdout",
          "text": [
            "Cow sound: Moo\n",
            "Sheep sound: Baa\n"
          ]
        }
      ]
    },
    {
      "cell_type": "markdown",
      "source": [
        "17. Create a class Book with attributes title, author, and year_published. Add a method get_book_info() that\n",
        "returns a formatted string with the book's details."
      ],
      "metadata": {
        "id": "-P-Mpc3HD5WB"
      }
    },
    {
      "cell_type": "code",
      "source": [
        "class Book:\n",
        "    def __init__(self, title, author, year_published):\n",
        "        self.title = title\n",
        "        self.author = author\n",
        "        self.year_published = year_published\n",
        "\n",
        "    def get_book_info(self):\n",
        "        return f\"'{self.title}' by {self.author} (Published in {self.year_published})\"\n",
        "\n",
        "# Example usage\n",
        "book1 = Book(\"To Kill a Mockingbird\", \"Harper Lee\", 1960)\n",
        "print(book1.get_book_info())\n"
      ],
      "metadata": {
        "colab": {
          "base_uri": "https://localhost:8080/"
        },
        "id": "DqA1lSI8D8yj",
        "outputId": "3270ee22-a9a1-48f4-c6ff-bf0a4250c226"
      },
      "execution_count": 17,
      "outputs": [
        {
          "output_type": "stream",
          "name": "stdout",
          "text": [
            "'To Kill a Mockingbird' by Harper Lee (Published in 1960)\n"
          ]
        }
      ]
    },
    {
      "cell_type": "markdown",
      "source": [
        "18. Create a class House with attributes address and price. Create a derived class Mansion that adds an\n",
        "attribute number_of_rooms."
      ],
      "metadata": {
        "id": "bi3M9wmGEJw0"
      }
    },
    {
      "cell_type": "code",
      "source": [
        "class House:\n",
        "    def __init__(self, address, price):\n",
        "        self.address = address\n",
        "        self.price = price\n",
        "\n",
        "    def get_info(self):\n",
        "        return f\"Address: {self.address}, Price: ₹{self.price}\"\n",
        "\n",
        "class Mansion(House):\n",
        "    def __init__(self, address, price, number_of_rooms):\n",
        "        super().__init__(address, price)\n",
        "        self.number_of_rooms = number_of_rooms\n",
        "\n",
        "    def get_info(self):\n",
        "        return f\"{super().get_info()}, Rooms: {self.number_of_rooms}\"\n",
        "\n",
        "# Example usage\n",
        "mansion1 = Mansion(\"12 Luxury Lane, Mumbai\", 250000000, 12)\n",
        "print(mansion1.get_info())\n"
      ],
      "metadata": {
        "colab": {
          "base_uri": "https://localhost:8080/"
        },
        "id": "c3CvTXxTEK_Z",
        "outputId": "f5b61a0a-88f9-425f-e6aa-fb688d26cd68"
      },
      "execution_count": 18,
      "outputs": [
        {
          "output_type": "stream",
          "name": "stdout",
          "text": [
            "Address: 12 Luxury Lane, Mumbai, Price: ₹250000000, Rooms: 12\n"
          ]
        }
      ]
    }
  ]
}